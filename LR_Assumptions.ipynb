{
 "cells": [
  {
   "cell_type": "code",
   "execution_count": 1,
   "metadata": {},
   "outputs": [
    {
     "name": "stderr",
     "output_type": "stream",
     "text": [
      "c:\\Users\\Khushi\\anaconda3\\Lib\\site-packages\\pandas\\core\\arrays\\masked.py:60: UserWarning: Pandas requires version '1.3.6' or newer of 'bottleneck' (version '1.3.5' currently installed).\n",
      "  from pandas.core import (\n"
     ]
    }
   ],
   "source": [
    "import numpy as np\n",
    "import pandas as pd\n",
    "from sklearn.linear_model import LinearRegression\n",
    "from sklearn.model_selection import train_test_split,cross_val_score"
   ]
  },
  {
   "cell_type": "code",
   "execution_count": 2,
   "metadata": {},
   "outputs": [
    {
     "data": {
      "text/html": [
       "<div>\n",
       "<style scoped>\n",
       "    .dataframe tbody tr th:only-of-type {\n",
       "        vertical-align: middle;\n",
       "    }\n",
       "\n",
       "    .dataframe tbody tr th {\n",
       "        vertical-align: top;\n",
       "    }\n",
       "\n",
       "    .dataframe thead th {\n",
       "        text-align: right;\n",
       "    }\n",
       "</style>\n",
       "<table border=\"1\" class=\"dataframe\">\n",
       "  <thead>\n",
       "    <tr style=\"text-align: right;\">\n",
       "      <th></th>\n",
       "      <th>feature1</th>\n",
       "      <th>feature2</th>\n",
       "      <th>feature3</th>\n",
       "      <th>target</th>\n",
       "    </tr>\n",
       "  </thead>\n",
       "  <tbody>\n",
       "    <tr>\n",
       "      <th>54</th>\n",
       "      <td>1.002536</td>\n",
       "      <td>1.178222</td>\n",
       "      <td>-0.489006</td>\n",
       "      <td>80.149781</td>\n",
       "    </tr>\n",
       "    <tr>\n",
       "      <th>198</th>\n",
       "      <td>-0.914822</td>\n",
       "      <td>-0.897140</td>\n",
       "      <td>-0.784205</td>\n",
       "      <td>-93.235783</td>\n",
       "    </tr>\n",
       "    <tr>\n",
       "      <th>9</th>\n",
       "      <td>-0.348368</td>\n",
       "      <td>-1.811019</td>\n",
       "      <td>0.746892</td>\n",
       "      <td>29.469835</td>\n",
       "    </tr>\n",
       "    <tr>\n",
       "      <th>173</th>\n",
       "      <td>-0.237337</td>\n",
       "      <td>0.885340</td>\n",
       "      <td>1.315167</td>\n",
       "      <td>10.231646</td>\n",
       "    </tr>\n",
       "    <tr>\n",
       "      <th>16</th>\n",
       "      <td>-0.294033</td>\n",
       "      <td>-0.687860</td>\n",
       "      <td>0.786363</td>\n",
       "      <td>33.375597</td>\n",
       "    </tr>\n",
       "  </tbody>\n",
       "</table>\n",
       "</div>"
      ],
      "text/plain": [
       "     feature1  feature2  feature3     target\n",
       "54   1.002536  1.178222 -0.489006  80.149781\n",
       "198 -0.914822 -0.897140 -0.784205 -93.235783\n",
       "9   -0.348368 -1.811019  0.746892  29.469835\n",
       "173 -0.237337  0.885340  1.315167  10.231646\n",
       "16  -0.294033 -0.687860  0.786363  33.375597"
      ]
     },
     "execution_count": 2,
     "metadata": {},
     "output_type": "execute_result"
    }
   ],
   "source": [
    "df = pd.read_csv('data.csv')\n",
    "df.sample(5)"
   ]
  },
  {
   "cell_type": "code",
   "execution_count": 3,
   "metadata": {},
   "outputs": [],
   "source": [
    "x = df.drop(columns=['target'])\n",
    "y = df['target']"
   ]
  },
  {
   "cell_type": "code",
   "execution_count": 4,
   "metadata": {},
   "outputs": [],
   "source": [
    "x_train,x_test,y_train,y_test = train_test_split(x,y,test_size=0.25,random_state=1)"
   ]
  },
  {
   "cell_type": "code",
   "execution_count": 6,
   "metadata": {},
   "outputs": [
    {
     "data": {
      "text/plain": [
       "array([ -34.15940191,  192.46217091,   14.47214718,  -15.86607352,\n",
       "        118.45019356, -107.61807806,  -39.87554019,   93.61716145,\n",
       "         -6.69781756,   29.05027197,   15.36445572, -107.06605055,\n",
       "         64.83251264,  144.5855839 ,  -20.32887181,  138.54904956,\n",
       "        -49.91118788,  168.58846384,   62.00645938,  181.04579189,\n",
       "         32.81750553,   22.00367952,   70.95306773,  -12.68597187,\n",
       "         -0.76125276, -105.71902535,  180.02240637, -120.74853888,\n",
       "        -31.27085523,  135.18511944,  107.61613383,  -10.26259395,\n",
       "          7.443399  ,   53.45257229,   27.5983241 ,  -46.69706184,\n",
       "         14.88897403,  102.96105229,  -50.23024259,   80.73993563,\n",
       "        172.62759813,  -20.79012165, -123.73924617,  -64.11059324,\n",
       "       -106.35918075,  -99.90796197,  -51.75264896,  108.40889567,\n",
       "       -156.30946173,  161.7930937 ])"
      ]
     },
     "execution_count": 6,
     "metadata": {},
     "output_type": "execute_result"
    }
   ],
   "source": [
    "lr = LinearRegression()\n",
    "lr.fit(x_train,y_train)\n",
    "y_pred = lr.predict(x_test)\n",
    "y_pred"
   ]
  },
  {
   "cell_type": "code",
   "execution_count": 9,
   "metadata": {},
   "outputs": [
    {
     "data": {
      "text/plain": [
       "0.950327430192653"
      ]
     },
     "execution_count": 9,
     "metadata": {},
     "output_type": "execute_result"
    }
   ],
   "source": [
    "cross_val_score(LinearRegression(),x_train,y_train,cv=10).mean()"
   ]
  },
  {
   "cell_type": "code",
   "execution_count": null,
   "metadata": {},
   "outputs": [],
   "source": []
  }
 ],
 "metadata": {
  "kernelspec": {
   "display_name": "base",
   "language": "python",
   "name": "python3"
  },
  "language_info": {
   "codemirror_mode": {
    "name": "ipython",
    "version": 3
   },
   "file_extension": ".py",
   "mimetype": "text/x-python",
   "name": "python",
   "nbconvert_exporter": "python",
   "pygments_lexer": "ipython3",
   "version": "3.11.4"
  }
 },
 "nbformat": 4,
 "nbformat_minor": 2
}
